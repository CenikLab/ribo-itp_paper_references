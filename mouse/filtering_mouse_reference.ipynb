{
 "cells": [
  {
   "cell_type": "markdown",
   "id": "826a69c7",
   "metadata": {},
   "source": [
    "# Filtering Mouse Transcriptome\n",
    "\n",
    "We remove the following gene from the mouse transcriptome:\n",
    "\n",
    "  * Mettl26-201  \n",
    "  \n",
    "  "
   ]
  },
  {
   "cell_type": "code",
   "execution_count": 1,
   "id": "c9771637",
   "metadata": {},
   "outputs": [],
   "source": [
    "import gzip\n",
    "\n",
    "class FastaEntry:\n",
    "    '''\n",
    "    Given a header and a sequence, creates a fasta entry.\n",
    "    The string representation of the fasta entry consists\n",
    "    of 50 nts per line.\n",
    "    Do not change the chunk size (= 50)\n",
    "    TODO : Consider making header and sequence properties\n",
    "    Also consider putting more checks here for the input\n",
    "    '''\n",
    "    def __init__(self , header , sequence ):\n",
    "        self.header   = header\n",
    "        self.sequence = sequence\n",
    "\n",
    "    def reverse_complement(self):\n",
    "        complements = {\"A\" : \"T\" , \"a\" : \"t\" ,\n",
    "                   \"C\" : \"G\" , \"c\" : \"g\" ,\n",
    "                   \"G\" : \"C\" , \"g\" : \"c\" ,\n",
    "                   \"T\" : \"A\" , \"t\" : \"a\" ,\n",
    "                   \"N\" : \"N\" , \"n\" : \"n\"}\n",
    "        result = list()\n",
    "\n",
    "        for i in range(len(self.sequence) - 1 , -1 , -1 ):\n",
    "            try:\n",
    "                result.append(complements[self.sequence[i]])\n",
    "            except IndexError:\n",
    "                error_message = \"Invalid character (%s) in the fasta sequence with header \\n\" \\\n",
    "                                \"%s\"%(self.sequence[i] , self.header)\n",
    "                raise IOError(error_message)\n",
    "        self.sequence = \"\".join(result)\n",
    "\n",
    "\n",
    "    def __str__(self ):\n",
    "        chunk_size                  = 50 # Do not change this!\n",
    "        result_list                 = [ '>' +  self.header ]\n",
    "        sequence_size               = len(self.sequence)\n",
    "        number_of_remaining_letters = sequence_size\n",
    "        number_of_processed_letters = 0\n",
    "\n",
    "        while number_of_remaining_letters > 0:\n",
    "            if number_of_remaining_letters <= chunk_size:\n",
    "                result_list.append(self.sequence[ number_of_processed_letters : ])\n",
    "                number_of_remaining_letters = 0\n",
    "                number_of_processed_letters = sequence_size\n",
    "            else:\n",
    "                new_number_of_processed_letters = number_of_processed_letters + chunk_size\n",
    "                result_list.append(self.sequence[ number_of_processed_letters : new_number_of_processed_letters])\n",
    "                number_of_remaining_letters -= chunk_size\n",
    "                number_of_processed_letters  = new_number_of_processed_letters\n",
    "\n",
    "        return(\"\\n\".join( result_list ) )\n",
    "\n",
    "############################################################################################\n",
    "\n",
    "\n",
    "class FastaFile:\n",
    "    '''\n",
    "    This object is used to read fasta files into FastaEntry objects.\n",
    "    For writing fasta files, we only need FastaEntry objects and using\n",
    "    their str function, we can convert them to string and write to files.\n",
    "    Note that it can be used as a context manager as well.\n",
    "    '''\n",
    "\n",
    "    def __init__(self , file):\n",
    "        myopen = open\n",
    "        if file.endswith(\".gz\"):\n",
    "            myopen = gzip.open\n",
    "\n",
    "        if(file):\n",
    "            self.f = myopen(file , \"rt\")\n",
    "        else:\n",
    "            self.f = stdin\n",
    "\n",
    "        self.current_header = \"\"\n",
    "        self.current_sequence = list()\n",
    "\n",
    "    #####################################################\n",
    "\n",
    "    def __enter__(self):\n",
    "        return self\n",
    "\n",
    "    #####################################################\n",
    "\n",
    "    def __exit__(self, exc_type, exc_val, exc_tb):\n",
    "        pass\n",
    "\n",
    "\n",
    "    ######################################################\n",
    "\n",
    "    def __getitem__(self, index):\n",
    "\n",
    "        for raw_line in self.f:\n",
    "            line = raw_line.strip()\n",
    "            if not line:\n",
    "                continue\n",
    "\n",
    "            if line[0] == \">\":\n",
    "                if not self.current_header:\n",
    "                    self.current_header = (line[1:].split())[0]\n",
    "                    self.current_sequence = list()\n",
    "                else:\n",
    "                    this_entry = FastaEntry(header = self.current_header , sequence = \"\".join(self.current_sequence) )\n",
    "                    self.current_header = (line[1:].split())[0]\n",
    "                    self.current_sequence = list()\n",
    "                    return(this_entry)\n",
    "            else:\n",
    "                self.current_sequence.append(line)\n",
    "\n",
    "        # this returns the last entry\n",
    "        if len(self.current_sequence) > 0:\n",
    "            this_entry = FastaEntry(header = self.current_header , sequence = \"\".join(self.current_sequence) )\n",
    "            self.current_sequence = list()\n",
    "            return(this_entry)\n",
    "\n",
    "        raise IndexError\n",
    "\n",
    "    #########################################################\n",
    "\n",
    "    def __del__(self):\n",
    "        self.f.close()"
   ]
  },
  {
   "cell_type": "code",
   "execution_count": 2,
   "id": "540888bf",
   "metadata": {},
   "outputs": [],
   "source": [
    "genes_to_be_removed = [\\\n",
    "                       \"Mettl26-201\"\n",
    "                      ]"
   ]
  },
  {
   "cell_type": "markdown",
   "id": "624c0ce9",
   "metadata": {},
   "source": [
    "## Fasta File"
   ]
  },
  {
   "cell_type": "code",
   "execution_count": 3,
   "id": "fde57c94",
   "metadata": {},
   "outputs": [
    {
     "name": "stdout",
     "output_type": "stream",
     "text": [
      "ENSMUST00000026827.15|ENSMUSG00000025731.16|OTTMUSG00000035873.4|OTTMUST00000091995.2|Mettl26-201|Mettl26|1243|UTR5:1-456|CDS:457-1071|UTR3:1072-1243|\n"
     ]
    }
   ],
   "source": [
    "input_fasta_path  = \"./transcriptome_old/variant_masked_mouse_transcriptome.fa.gz\"\n",
    "output_fasta_path = \"./transcriptome/varnt_masked_and_filtered_mouse_transcriptome.fa.gz\"\n",
    "\n",
    "input_fasta = FastaFile(input_fasta_path)\n",
    "\n",
    "for e in input_fasta:\n",
    "    header_contents = e.header.split(\"|\")\n",
    "    \n",
    "    if header_contents[4].find(genes_to_be_removed[0]) >= 0:\n",
    "        print(e.header)"
   ]
  },
  {
   "cell_type": "code",
   "execution_count": 4,
   "id": "41ec9ace",
   "metadata": {},
   "outputs": [],
   "source": [
    "input_fasta = FastaFile(input_fasta_path)\n",
    "\n",
    "with gzip.open(output_fasta_path, \"wt\") as output_stream:\n",
    "    for e in input_fasta:\n",
    "        header_contents = e.header.split(\"|\")\n",
    "\n",
    "        if header_contents[4].find( genes_to_be_removed[0] ) < 0:\n",
    "            print(e, file = output_stream)"
   ]
  },
  {
   "cell_type": "markdown",
   "id": "f5c7580f",
   "metadata": {},
   "source": [
    "Now, let's make sure that the output does not contain the transcript Mettl26-201:"
   ]
  },
  {
   "cell_type": "code",
   "execution_count": 5,
   "id": "2a6d793f",
   "metadata": {},
   "outputs": [],
   "source": [
    "output_fasta = FastaFile(output_fasta_path)\n",
    "\n",
    "for e in output_fasta:\n",
    "    header_contents = e.header.split(\"|\")\n",
    "    \n",
    "    if header_contents[4].find(genes_to_be_removed[0]) >= 0:\n",
    "        print(e.header)"
   ]
  },
  {
   "cell_type": "code",
   "execution_count": null,
   "id": "e2ccad5a",
   "metadata": {},
   "outputs": [],
   "source": []
  },
  {
   "cell_type": "code",
   "execution_count": null,
   "id": "c12754c3",
   "metadata": {},
   "outputs": [],
   "source": []
  },
  {
   "cell_type": "markdown",
   "id": "d36f0a48",
   "metadata": {},
   "source": [
    "## Annotation File"
   ]
  },
  {
   "cell_type": "code",
   "execution_count": 6,
   "id": "ef6f90c0",
   "metadata": {},
   "outputs": [],
   "source": [
    "old_annotation_file = \"./transcriptome_old/appris_mouse_v2_actual_regions.bed\"\n",
    "new_annotation_file = \"./transcriptome/appris_mouse_v2_filtered_regions.bed\"\n",
    "\n",
    "with open(old_annotation_file, \"rt\") as input_stream,\\\n",
    "     open(new_annotation_file, \"wt\") as output_stream:\n",
    "    for this_line in input_stream:\n",
    "        contents = this_line.split()\n",
    "        \n",
    "        if len(contents) < 5:\n",
    "            continue\n",
    "        \n",
    "        if contents[0].find(genes_to_be_removed[0]) < 0:\n",
    "            print(this_line, file=output_stream, end=\"\")"
   ]
  },
  {
   "cell_type": "code",
   "execution_count": null,
   "id": "f022d88c",
   "metadata": {},
   "outputs": [],
   "source": []
  },
  {
   "cell_type": "markdown",
   "id": "499eee2f",
   "metadata": {},
   "source": [
    "## Lengths File"
   ]
  },
  {
   "cell_type": "code",
   "execution_count": 7,
   "id": "dc4f46b0",
   "metadata": {},
   "outputs": [],
   "source": [
    "old_lengths_file = \"./transcriptome_old/appris_mouse_v2_transcript_lengths.tsv\"\n",
    "new_lengths_file = \"./transcriptome/appris_mouse_v2_filtered_transcript_lengths.tsv\"\n",
    "\n",
    "\n",
    "with open(old_lengths_file, \"rt\") as input_stream,\\\n",
    "     open(new_lengths_file, \"wt\") as output_stream:\n",
    "    for this_line in input_stream:\n",
    "        contents = this_line.split()\n",
    "        \n",
    "        if len(contents) < 2:\n",
    "            continue\n",
    "        \n",
    "        if contents[0].find(genes_to_be_removed[0]) < 0:\n",
    "            print(this_line, file=output_stream, end=\"\")"
   ]
  },
  {
   "cell_type": "code",
   "execution_count": null,
   "id": "f302f893",
   "metadata": {},
   "outputs": [],
   "source": []
  },
  {
   "cell_type": "code",
   "execution_count": 8,
   "id": "0977a1f6",
   "metadata": {},
   "outputs": [],
   "source": [
    "! grep Mettl26-201 ./transcriptome/appris_mouse_v2_filtered_transcript_lengths.tsv"
   ]
  },
  {
   "cell_type": "code",
   "execution_count": 9,
   "id": "1b3b44c5",
   "metadata": {},
   "outputs": [
    {
     "name": "stdout",
     "output_type": "stream",
     "text": [
      "ENSMUST00000118875.7|ENSMUSG00000057666.18|OTTMUSG00000027118.9|OTTMUST00000067084.3|Gapdh-203|Gapdh|1420|UTR5:1-240|CDS:241-1242|UTR3:1243-1420|\t1420\r\n",
      "ENSMUST00000074758.5|ENSMUSG00000061099.12|OTTMUSG00000043090.3|OTTMUST00000113132.2|Gapdhs-201|Gapdhs|1368|UTR5:1-51|CDS:52-1368|\t1368\r\n"
     ]
    }
   ],
   "source": [
    "! grep Gapdh ./transcriptome/appris_mouse_v2_filtered_transcript_lengths.tsv"
   ]
  }
 ],
 "metadata": {
  "kernelspec": {
   "display_name": "Python 3",
   "language": "python",
   "name": "python3"
  },
  "language_info": {
   "codemirror_mode": {
    "name": "ipython",
    "version": 3
   },
   "file_extension": ".py",
   "mimetype": "text/x-python",
   "name": "python",
   "nbconvert_exporter": "python",
   "pygments_lexer": "ipython3",
   "version": "3.6.13"
  }
 },
 "nbformat": 4,
 "nbformat_minor": 5
}
